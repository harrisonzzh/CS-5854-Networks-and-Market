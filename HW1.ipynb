{
 "cells": [
  {
   "cell_type": "markdown",
   "metadata": {},
   "source": [
    "## Part 3: Coding: Shortest Paths"
   ]
  },
  {
   "cell_type": "markdown",
   "metadata": {},
   "source": [
    "8.\n",
    "(a). Implement (and turn in) a procedure that produces an undirected graph with a large number of nodes (say, 1,000), and connects each pair of nodes by an edge with some probability p (specified as an argument)."
   ]
  },
  {
   "cell_type": "code",
   "execution_count": 2,
   "metadata": {
    "collapsed": true
   },
   "outputs": [],
   "source": [
    "import networkx as nx\n",
    "import matplotlib.pyplot as plt\n",
    "import numpy as np\n",
    "import itertools as itr\n",
    "\n",
    "\n",
    "def a_8(n, p):\n",
    "    G = nx.Graph()\n",
    "\n",
    "    subsets = np.array(list(itr.combinations(list(range(n)),2)))\n",
    "    prob_list = np.random.uniform(size = len(subsets))\n",
    "    edge_list = subsets[prob_list <= p]\n",
    "    G.add_nodes_from(list(range(n)))\n",
    "    G.add_edges_from(edge_list)\n",
    "    \n",
    "    return G\n",
    "G= a_8(1000, 0.1)"
   ]
  },
  {
   "cell_type": "markdown",
   "metadata": {},
   "source": [
    "(b). Implement a general shortest-path algorithm for graphs, as described in lecture, that works on your data set. (Turn in your algorithm as part of your homework submission.) Make sure to handle the case where the graph is disconnected (i.e. no shortest path exists), either by outputting “infinity” or a suitably large number."
   ]
  },
  {
   "cell_type": "code",
   "execution_count": 3,
   "metadata": {
    "collapsed": true
   },
   "outputs": [],
   "source": [
    "def find_avg_short(G, subsets):\n",
    "    total_path = 0\n",
    "    num_of_connected_pair = len(subsets)\n",
    "    for pair in subsets:\n",
    "        a = pair[0]\n",
    "        b = pair[1]\n",
    "        nodes_visited = [a]\n",
    "        visited_last_time = []\n",
    "        steps = 0\n",
    "        connect_status = 1\n",
    "        while b not in nodes_visited:\n",
    "\n",
    "            visited_this_time = []\n",
    "            for o in nodes_visited:\n",
    "                visited_this_time += G.neighbors(o)\n",
    "\n",
    "            visited_this_time = list(set(visited_this_time))\n",
    "\n",
    "            if set(visited_this_time) <= set(nodes_visited):\n",
    "                num_of_connected_pair -= 1\n",
    "                connect_status = 0\n",
    "                break\n",
    "            nodes_visited += visited_this_time\n",
    "            nodes_visited = list(set(nodes_visited))\n",
    "            steps += 1\n",
    "        if connect_status == 1:\n",
    "            total_path += steps\n",
    "\n",
    "    return total_path/num_of_connected_pair"
   ]
  },
  {
   "cell_type": "markdown",
   "metadata": {},
   "source": [
    "(c) Run your shortest-path algorithm on a graph with p = 0.1 many (10,000 or more) times using random pairs of nodes and use it to calculate an estimate of the average shortest path between two nodes in this data set. (Turn in code detailing how you implemented this and a small segment—say, 100 searches—of an execution trace of your code, preferably printing (node A, node B, path length) for each pair and the final average at the end.)"
   ]
  },
  {
   "cell_type": "code",
   "execution_count": 4,
   "metadata": {
    "collapsed": true
   },
   "outputs": [],
   "source": [
    "def pairs(G, k):\n",
    "    n = G.number_of_nodes()\n",
    "    pairs = np.array(list(itr.combinations(list(range(n)),2)))\n",
    "    #subsets = np.random.choice(pairs, 100)\n",
    "    import random\n",
    "    random_pairs = pairs[random.sample(range(len(pairs)), k)]\n",
    "    return random_pairs"
   ]
  },
  {
   "cell_type": "code",
   "execution_count": 5,
   "metadata": {},
   "outputs": [
    {
     "name": "stdout",
     "output_type": "stream",
     "text": [
      "The approxiamte average shortest path:  1.8966\n"
     ]
    }
   ],
   "source": [
    "random_pairs = pairs(G,10000)\n",
    "answer = find_avg_short(G, random_pairs)\n",
    "print('The approxiamte average shortest path: ', answer)"
   ]
  },
  {
   "cell_type": "markdown",
   "metadata": {
    "collapsed": true
   },
   "source": [
    "(d) Run the shortest-path algorithm on data sets constructed with many values of p (for instance, 0.01 to 0.04 using .01 increments, and then 0.05 to 0.5 using .05 increments). Turn in your numerical data, and plot the average shortest path as a function of p. Note: For p = 0.01 there is actually a small but reasonable chance (around 4%) to produce a disconnected graph. If this occurs, you are free to resample and produce a connected graph for the purposes of gathering data.\n"
   ]
  },
  {
   "cell_type": "code",
   "execution_count": 6,
   "metadata": {
    "collapsed": true
   },
   "outputs": [],
   "source": [
    "import numpy as np\n",
    "p1 = np.arange(0.01, 0.04, 0.01)\n",
    "p2 = np.arange(0.05, 0.5, 0.05)"
   ]
  },
  {
   "cell_type": "code",
   "execution_count": 7,
   "metadata": {},
   "outputs": [
    {
     "data": {
      "text/plain": [
       "[3.2524, 2.6381, 2.352]"
      ]
     },
     "execution_count": 7,
     "metadata": {},
     "output_type": "execute_result"
    }
   ],
   "source": [
    "path1 = []\n",
    "for p in p1:\n",
    "    G = a_8(1000, p)\n",
    "    random_pairs = pairs(G,10000)\n",
    "    answer = find_avg_short(G, random_pairs)\n",
    "    path1.append(answer)\n",
    "path1"
   ]
  },
  {
   "cell_type": "code",
   "execution_count": 8,
   "metadata": {},
   "outputs": [
    {
     "data": {
      "text/plain": [
       "[2.0209, 1.906, 1.8557, 1.8033, 1.7491, 1.7059, 1.647, 1.5995, 1.5555]"
      ]
     },
     "execution_count": 8,
     "metadata": {},
     "output_type": "execute_result"
    }
   ],
   "source": [
    "path2 = []\n",
    "for p in p2:\n",
    "    G = a_8(1000, p)\n",
    "    random_pairs = pairs(G,10000)\n",
    "    answer = find_avg_short(G, random_pairs)\n",
    "    path2.append(answer)\n",
    "path2"
   ]
  },
  {
   "cell_type": "code",
   "execution_count": 31,
   "metadata": {},
   "outputs": [
    {
     "data": {
      "image/png": "[encoded data removed]",
      "text/plain": [
       "<matplotlib.figure.Figure at 0x11179d400>"
      ]
     },
     "metadata": {},
     "output_type": "display_data"
    }
   ],
   "source": [
    "import matplotlib.pyplot as plt\n",
    "import numpy as np\n",
    "\n",
    "p3 = list(p1) + list(p2)\n",
    "path3 = path1 + path2\n",
    "plt.figure(figsize = (8,5))\n",
    "plt.xlabel('probability')\n",
    "plt.ylabel('Avg Shortest Path')\n",
    "plt.plot(p3, path3)\n",
    "plt.show()"
   ]
  },
  {
   "cell_type": "markdown",
   "metadata": {
    "collapsed": true
   },
   "source": [
    "(e) Intuitively explain the behavior of the data you found; specifically, as p increases (in particular, look at the larger values, e.g. 0.3 and above), what function does the average shortest path length seem to asymptotically approach and why?"
   ]
  },
  {
   "cell_type": "markdown",
   "metadata": {
    "collapsed": true
   },
   "source": [
    "  Answer: As p increase, the average shortest path will decreases. Intuitively, when people are more likely to connect with each other, they can more easily reach any person in the network by fewer steps. \n",
    "  It seems like the function is approaching y = x + 2. "
   ]
  },
  {
   "cell_type": "markdown",
   "metadata": {},
   "source": [
    "9.Now run your code on the Facebook social network data available at: http://snap.stanford.edu/data/egonets-Facebook.html\n",
    "(In particular, please refer to the file “facebook combined.txt.gz”; the data is formatted as a list of undirected edges between 4,039 nodes, numbered 0 through 4038. You will need to parse this data as part of your code; knowing how to do this will be useful for subsequent assignments!)"
   ]
  },
  {
   "cell_type": "markdown",
   "metadata": {},
   "source": [
    "(a) Repeat the same analysis as in part c) (i.e. run your algorithm on 10,000 random pairs of nodes and determine the average shortest path length). Turn in your parsing code and a small segment of your execution trace, along with the final average you computed.\n"
   ]
  },
  {
   "cell_type": "code",
   "execution_count": 43,
   "metadata": {
    "collapsed": true
   },
   "outputs": [],
   "source": [
    "#Importing data\n",
    "import networkx as nx\n",
    "import matplotlib.pyplot as plt\n",
    "import numpy as np\n",
    "import itertools as itr\n",
    "import pandas as pd\n",
    "\n",
    "fb_nw = pd.read_csv('facebook_combined.txt', names = {'edges'})\n",
    "G2 = nx.Graph()\n",
    "#G2.add_edges_from(fb_nw['edges'])\n",
    "#a = list(map(int, fb_nw.edges[1].split(' ')))\n",
    "fb_nw.edges = list(map(lambda x: x.split(' '), fb_nw.edges))\n",
    "fb_nw.edges = list(map(lambda x: (int(x[0]), int(x[1])), fb_nw.edges))\n",
    "G2.add_edges_from(fb_nw.edges)\n",
    "#G2.add_nodes_from(fb_nw.index)"
   ]
  },
  {
   "cell_type": "code",
   "execution_count": 53,
   "metadata": {
    "collapsed": true
   },
   "outputs": [],
   "source": [
    "import time\n",
    "random_pairs2 = pairs(G2,10000)\n",
    "answer = find_avg_short(G2, random_pairs2)\n",
    "t1 = time.time()"
   ]
  },
  {
   "cell_type": "code",
   "execution_count": 52,
   "metadata": {},
   "outputs": [
    {
     "name": "stdout",
     "output_type": "stream",
     "text": [
      "The approxiamte average shortest path:  3.6839\n"
     ]
    }
   ],
   "source": [
    "print('The approxiamte average shortest path: ', answer)"
   ]
  },
  {
   "cell_type": "markdown",
   "metadata": {},
   "source": [
    "(b) What is p for the Facebook data? That is, given two random nodes, what is the probabil- ity they are connected by an edge? (You may compute this either precisely or empirically, but you will likely find the former to be easier.)\n"
   ]
  },
  {
   "cell_type": "code",
   "execution_count": 57,
   "metadata": {},
   "outputs": [
    {
     "data": {
      "text/plain": [
       "0.010819963503439287"
      ]
     },
     "execution_count": 57,
     "metadata": {},
     "output_type": "execute_result"
    }
   ],
   "source": [
    "prob = G2.number_of_edges()/(4039*4038/2)\n",
    "prob"
   ]
  },
  {
   "cell_type": "markdown",
   "metadata": {},
   "source": [
    "c) Is the average shortest path length of the Facebook data greater than, equal to, or less than you would expect it to be if it were a random-edge graph with the same number of nodes and value of p? (To answer this, you may wish to run your code from question (8c) using the p you determined in part (9b) and 4039 nodes.) Explain why you think this is the case."
   ]
  },
  {
   "cell_type": "code",
   "execution_count": 58,
   "metadata": {
    "collapsed": true
   },
   "outputs": [],
   "source": [
    "G3 = a_8(4039, prob)"
   ]
  },
  {
   "cell_type": "code",
   "execution_count": 62,
   "metadata": {
    "collapsed": true
   },
   "outputs": [],
   "source": [
    "import time\n",
    "random_pairs2 = pairs(G3,1000)\n",
    "answer2 = find_avg_short(G3, random_pairs2)"
   ]
  },
  {
   "cell_type": "code",
   "execution_count": 63,
   "metadata": {},
   "outputs": [
    {
     "name": "stdout",
     "output_type": "stream",
     "text": [
      "The approxiamte average shortest path:  2.599\n"
     ]
    }
   ],
   "source": [
    "print('The approxiamte average shortest path: ',answer2)"
   ]
  },
  {
   "cell_type": "markdown",
   "metadata": {},
   "source": [
    "Reasoning: The expected average shortest path is much lower than the real average shortest path. This happens because we use the some probability for everyone. So, the likelihood that people connect with each other is same, which apparently cannot be true in real life. The probability will vary largely for different people."
   ]
  }
 ],
 "metadata": {
  "kernelspec": {
   "display_name": "Python 3",
   "language": "python",
   "name": "python3"
  },
  "language_info": {
   "codemirror_mode": {
    "name": "ipython",
    "version": 3
   },
   "file_extension": ".py",
   "mimetype": "text/x-python",
   "name": "python",
   "nbconvert_exporter": "python",
   "pygments_lexer": "ipython3",
   "version": "3.6.1"
  }
 },
 "nbformat": 4,
 "nbformat_minor": 2
}
